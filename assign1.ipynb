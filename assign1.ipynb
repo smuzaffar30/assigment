{
 "cells": [
  {
   "cell_type": "markdown",
   "id": "4ea0e6ca",
   "metadata": {},
   "source": [
    "### 1)A company decided to give bonus of 5% to employee if his/her year of service is more than 5 years.Ask user for thier salary and year of service and print the net bonus amount."
   ]
  },
  {
   "cell_type": "code",
   "execution_count": 10,
   "id": "9f6ebf69",
   "metadata": {},
   "outputs": [
    {
     "name": "stdout",
     "output_type": "stream",
     "text": [
      "enter your salary =50000\n",
      "enter the years of job period =6\n",
      "52500.0\n"
     ]
    }
   ],
   "source": [
    "sal=int(input(\"enter your salary =\"))\n",
    "year=int(input(\"enter the years of job period =\"))\n",
    "if year>5:\n",
    "    print(sal+sal/100*5)\n",
    "else:\n",
    "    print(\"you are not eligible for bonus\")"
   ]
  },
  {
   "cell_type": "markdown",
   "id": "79ae6adc",
   "metadata": {},
   "source": [
    "### 2)Write a program to check whether a person is eligible for voting or not (accept age from user) if age is greater than 17 eligible otherwise not eligible."
   ]
  },
  {
   "cell_type": "code",
   "execution_count": 11,
   "id": "39859a42",
   "metadata": {},
   "outputs": [
    {
     "name": "stdout",
     "output_type": "stream",
     "text": [
      "Enter your age =18\n",
      "you are eligible for vote\n"
     ]
    }
   ],
   "source": [
    "age=int(input(\"Enter your age =\"))\n",
    "if age>17:\n",
    "        print(\"you are eligible for vote\")\n",
    "else:   print(\"you are not eligible for vote\")"
   ]
  },
  {
   "cell_type": "markdown",
   "id": "d3d7eba1",
   "metadata": {},
   "source": [
    "### 3)Write a program to check whether a number entered by user is even or odd."
   ]
  },
  {
   "cell_type": "code",
   "execution_count": 12,
   "id": "1c8ba51e",
   "metadata": {},
   "outputs": [
    {
     "name": "stdout",
     "output_type": "stream",
     "text": [
      "enter a number =6\n",
      "the entered number is even\n"
     ]
    }
   ],
   "source": [
    "num=int(input(\"enter a number =\"))\n",
    "if num%2==0:\n",
    "    print(\"the entered number is even\")\n",
    "else:\n",
    "    print(\"the entered number is odd\")"
   ]
  },
  {
   "cell_type": "markdown",
   "id": "d8a99fec",
   "metadata": {},
   "source": [
    "### 4)Write a program to check whether a number is divisible by 7 or not.Show answer."
   ]
  },
  {
   "cell_type": "code",
   "execution_count": 14,
   "id": "815c88de",
   "metadata": {},
   "outputs": [
    {
     "name": "stdout",
     "output_type": "stream",
     "text": [
      "enter a number =15\n",
      "Entered number is not divisible by 7\n"
     ]
    }
   ],
   "source": [
    "num=int(input(\"enter a number =\"))\n",
    "if num%7==0:\n",
    "    print(\"Entered number is divisible by 7\")\n",
    "else:\n",
    "    print(\"Entered number is not divisible by 7\")"
   ]
  },
  {
   "cell_type": "markdown",
   "id": "1a0fd58d",
   "metadata": {},
   "source": [
    "### 5)write a program to display \"Hello\" if a number entered by user is a multiple of five, otherwise print\"Bye\""
   ]
  },
  {
   "cell_type": "code",
   "execution_count": 28,
   "id": "7d657e22",
   "metadata": {},
   "outputs": [
    {
     "name": "stdout",
     "output_type": "stream",
     "text": [
      "enter a number =50\n",
      "Hello\n"
     ]
    }
   ],
   "source": [
    "num=int(input(\"enter a number =\"))\n",
    "if num%5==0:\n",
    "    print(\"Hello\")\n",
    "else:    print(\"Bye\")"
   ]
  },
  {
   "cell_type": "markdown",
   "id": "c58a35e2",
   "metadata": {},
   "source": [
    "### 6)Write a program to calculate the electricity bill (accept number of unit from user) according to the following criteria :Unit Price upto 100 units no change next 200 units Rs 5 per unit.After 200 units Rs 10 per unit (For example if input unit is 350 then total amount is Rs.3500(For example if input is 97 then total bill amount is Rs.0(For example if input is 150 then total bill amount is Rs.750."
   ]
  },
  {
   "cell_type": "code",
   "execution_count": 35,
   "id": "7ae2c09b",
   "metadata": {},
   "outputs": [
    {
     "name": "stdout",
     "output_type": "stream",
     "text": [
      "enter units of your electricity bill =99\n",
      "Your bill amount is Rs.0\n"
     ]
    }
   ],
   "source": [
    "unit=int(input(\"enter units of your electricity bill =\"))\n",
    "if 201>unit>100:\n",
    "        amount=unit*5\n",
    "        print(\"your bill amount is = \",amount)\n",
    "elif unit>200:\n",
    "        amount=unit*10\n",
    "        print(\"your bill amount is =\",amount)\n",
    "else:\n",
    "        print(\"Your bill amount is Rs.0\")"
   ]
  },
  {
   "cell_type": "markdown",
   "id": "4b8bc0fc",
   "metadata": {},
   "source": [
    "### 7)Write a program to display last digit of a number."
   ]
  },
  {
   "cell_type": "code",
   "execution_count": 27,
   "id": "0cf9144a",
   "metadata": {},
   "outputs": [
    {
     "name": "stdout",
     "output_type": "stream",
     "text": [
      "enter a number =674\n",
      "last digit of entered number is  4\n"
     ]
    }
   ],
   "source": [
    "num=int(input(\"enter a number =\"))\n",
    "last_dig=num%10\n",
    "print(\"last digit of entered number is \",last_dig)"
   ]
  },
  {
   "cell_type": "markdown",
   "id": "a4cbcf48",
   "metadata": {},
   "source": [
    "### 8)write a program whether the last digit of a number (entered by user )is divisible by 3 or not."
   ]
  },
  {
   "cell_type": "code",
   "execution_count": 38,
   "id": "8b00f9eb",
   "metadata": {},
   "outputs": [
    {
     "name": "stdout",
     "output_type": "stream",
     "text": [
      "enter a number =8\n",
      "last digit of your entered number is not divisible by 3\n"
     ]
    }
   ],
   "source": [
    "num=int(input(\"enter a number =\"))\n",
    "last_dig=num%10\n",
    "if last_dig%3==0:\n",
    "    print(\"last digit of your entered number is divisible by 3\")\n",
    "else:\n",
    "    print(\"last digit of your entered number is not divisible by 3\")"
   ]
  },
  {
   "cell_type": "markdown",
   "id": "5d399dd7",
   "metadata": {},
   "source": [
    "### 9)Take values of lenth and breath of a rectangle from user and print if it is square or rectangle."
   ]
  },
  {
   "cell_type": "code",
   "execution_count": 41,
   "id": "0b277772",
   "metadata": {},
   "outputs": [
    {
     "name": "stdout",
     "output_type": "stream",
     "text": [
      "input the lenth =10\n",
      "imput the breath =20\n",
      "It is rectangle\n"
     ]
    }
   ],
   "source": [
    "length=int(input(\"input the lenth =\"))\n",
    "breath=int(input(\"imput the breath =\"))\n",
    "if length==breath:\n",
    "    print(\"It is square\")\n",
    "else:\n",
    "    print(\"It is rectangle\")"
   ]
  },
  {
   "cell_type": "markdown",
   "id": "48f12839",
   "metadata": {},
   "source": [
    "### 10)Take two integer values from user and print greatest among them."
   ]
  },
  {
   "cell_type": "code",
   "execution_count": 54,
   "id": "77c66267",
   "metadata": {},
   "outputs": [
    {
     "name": "stdout",
     "output_type": "stream",
     "text": [
      "Enter the 1st number =70\n",
      "Enter the 2nd number=60\n",
      "70\n"
     ]
    }
   ],
   "source": [
    "x=int(input(\"Enter the 1st number =\"))\n",
    "y=int(input(\"Enter the 2nd number=\"))\n",
    "if x>y:\n",
    "    print(x)\n",
    "elif y>x:\n",
    "    print(y)"
   ]
  },
  {
   "cell_type": "markdown",
   "id": "25cbdf5c",
   "metadata": {},
   "source": [
    "### 11)A shop will give discount of 10 % if the cost of purchased quantity is more than 1000 .Ask user for quantity .Suppose one unit will cost 100 .Judge and print total cost for user."
   ]
  },
  {
   "cell_type": "code",
   "execution_count": 59,
   "id": "107e2100",
   "metadata": {},
   "outputs": [
    {
     "name": "stdout",
     "output_type": "stream",
     "text": [
      "enter your quantity you purchased11\n",
      "you have to pay total cost = 990.0\n"
     ]
    }
   ],
   "source": [
    "quantity=int(input(\"enter your quantity you purchased\"))\n",
    "amount=quantity*100\n",
    "if amount>1000:\n",
    "    dis=amount/100*10\n",
    "    print(\"you have to pay total cost =\",amount-dis)\n",
    "else:\n",
    "    print(\"you have no discount\")"
   ]
  },
  {
   "cell_type": "markdown",
   "id": "5384d307",
   "metadata": {},
   "source": [
    "### 12)A school has following rules for grading systems\n",
    "a.Below 25=F\n",
    "b.25 to 45=E\n",
    "c.45 to 50=D\n",
    "d.50 to 60=C\n",
    "e.60 to 80=B\n",
    "f.above 80=A\n",
    "Ask user to enter marks and print the correspoding grade."
   ]
  },
  {
   "cell_type": "code",
   "execution_count": 9,
   "id": "1a2249ab",
   "metadata": {},
   "outputs": [
    {
     "name": "stdout",
     "output_type": "stream",
     "text": [
      "Enter the obtained marks out of 900 = 800\n",
      "your grade is 'A'\n"
     ]
    }
   ],
   "source": [
    "marks=int(input(\"Enter the obtained marks out of 900 = \"))\n",
    "perc=marks/900*100\n",
    "if perc<25:\n",
    "    print(\"Your grade is 'F'\")\n",
    "elif 45>perc>=25:\n",
    "    print(\"your grade is 'E'\")\n",
    "elif 50>perc>=45:\n",
    "    print(\"your grade is 'd'\")\n",
    "elif 60>perc>=50:\n",
    "    print(\"your grade is 'C'\")\n",
    "elif 80>perc>=60:\n",
    "    print(\"your grade is 'B'\")\n",
    "else:\n",
    "    print(\"your grade is 'A'\")"
   ]
  },
  {
   "cell_type": "markdown",
   "id": "400d5c40",
   "metadata": {},
   "source": [
    "### 13) Take input of age of 3 people by user and determine oldest and youngest among them."
   ]
  },
  {
   "cell_type": "code",
   "execution_count": 12,
   "id": "0c358f48",
   "metadata": {},
   "outputs": [
    {
     "name": "stdout",
     "output_type": "stream",
     "text": [
      "Enter the Age of people1:30\n",
      "Enter the Age of people2 :50\n",
      "Enter the Age of people3 :14\n",
      "The Youngest Age is people3\n",
      "The oldest Age is people2\n"
     ]
    }
   ],
   "source": [
    "age1 = int(input(\"Enter the Age of people1:\"))\n",
    "age2 = int(input(\"Enter the Age of people2 :\"))\n",
    "age3 = int(input(\"Enter the Age of people3 :\"))\n",
    "if(age1<age2 and age1<age3):\n",
    "\tprint(\"The Youngest Age is people1\")\n",
    "elif(age2<age1 and age2<age3):\n",
    "\tprint(\"The Youngest Age is people2\")\n",
    "else:\n",
    "\tprint(\"The Youngest Age is people3\")\n",
    "if(age1>age2 and age1>age3):\n",
    "\tprint(\"The oldest Age is people1\")\n",
    "elif(age2>age1 and age2>age3):\n",
    "\tprint(\"The oldest Age is people2\")\n",
    "else:\n",
    "\tprint(\"The oldest Age is people3\")"
   ]
  },
  {
   "cell_type": "markdown",
   "id": "6b716a44",
   "metadata": {},
   "source": [
    "### 14)A student is not allowed to sit in exam if his/her attendance is less than 75%.Take following input from user\n",
    "Number of classes held.\n",
    "Number of classes attended.\n",
    "And print percentage of class attended.Is student allowed to sit in exam or not."
   ]
  },
  {
   "cell_type": "code",
   "execution_count": 10,
   "id": "bb2dfb52",
   "metadata": {},
   "outputs": [
    {
     "name": "stdout",
     "output_type": "stream",
     "text": [
      "Enter the classes held =100\n",
      "Enter the classes attended =75\n",
      "Student is allowed to sit in Exam\n"
     ]
    }
   ],
   "source": [
    "class_held=int(input(\"Enter the classes held =\"))\n",
    "class_attended=int(input(\"Enter the classes attended =\"))\n",
    "perc=class_attended/class_held*100\n",
    "if perc>=75:\n",
    "    print (\"Student is allowed to sit in Exam\")\n",
    "else:\n",
    "    print(\"Student is not allowed to sit in Exam\")"
   ]
  },
  {
   "cell_type": "markdown",
   "id": "eb0f002d",
   "metadata": {},
   "source": [
    "### 15)Modify the above question to allow student to sit if he/she has medical cause.Ask user if he/she has medical cause or not('Y' or 'N') and print accordingly. "
   ]
  },
  {
   "cell_type": "code",
   "execution_count": 9,
   "id": "ad874616",
   "metadata": {},
   "outputs": [
    {
     "name": "stdout",
     "output_type": "stream",
     "text": [
      "Enter the classes held =100\n",
      "Enter the classes attended =50\n",
      "Do you have medical issue then press 'Y' or 'N' =Y\n",
      "Student is allowed to sit in Exam\n"
     ]
    }
   ],
   "source": [
    "class_held=int(input(\"Enter the classes held =\"))\n",
    "class_attended=int(input(\"Enter the classes attended =\"))\n",
    "med_cause=input(\"Do you have medical issue then press 'Y' or 'N' =\")\n",
    "perc=class_attended/class_held*100\n",
    "if med_cause=='N':\n",
    "    if perc>=75:\n",
    "        print (\"Student is allowed to sit in Exam\")\n",
    "    else:\n",
    "        print(\"Student is not allowed to sit in Exam\")\n",
    "else:\n",
    "    print(\"Student is allowed to sit in Exam\")"
   ]
  },
  {
   "cell_type": "markdown",
   "id": "a19feb14",
   "metadata": {},
   "source": [
    "### 16)Write a program to check if a year is leap year or not. If a year is divisible by 4 then it is a leap year but if the year is century year like 2000 ,1900 ,2100 then it must be divisible by 4."
   ]
  },
  {
   "cell_type": "code",
   "execution_count": 26,
   "id": "f2fea235",
   "metadata": {},
   "outputs": [
    {
     "name": "stdout",
     "output_type": "stream",
     "text": [
      "Enter the year =2001\n",
      "The Entered year is not a leap year\n"
     ]
    }
   ],
   "source": [
    "year=int(input(\"Enter the year =\"))\n",
    "if year%4==0:\n",
    "    print(\"The Entered year is leap year\")\n",
    "else:\n",
    "    print(\"The Entered year is not a leap year\")"
   ]
  },
  {
   "cell_type": "markdown",
   "id": "50281e55",
   "metadata": {},
   "source": [
    "### 17)Ask user to enter age, gender(M or F). marital status(Y or N) and then using following rules print thier place of service if employee is female ,the she will work only in Urban areas.If employee is Male and his age is in between 20 to 40 then he may work anywhere.If emplyee is male and his age is between 40 to 60 the he will work in Urban areas only. And any other input of age should print 'Error'"
   ]
  },
  {
   "cell_type": "code",
   "execution_count": 8,
   "id": "01f4f912",
   "metadata": {},
   "outputs": [
    {
     "name": "stdout",
     "output_type": "stream",
     "text": [
      "Enter age = 50\n",
      "Enter gender 'M' or 'F' =F\n",
      "Enter your marital status 'Y' or 'N'= Y\n",
      "She can work in Urban areas only\n"
     ]
    }
   ],
   "source": [
    "age=int(input(\"Enter age = \"))\n",
    "gender=input(\"Enter gender 'M' or 'F' =\")\n",
    "mari_stat=input(\"Enter your marital status 'Y' or 'N'= \")\n",
    "if gender=='F':\n",
    "    print(\"She can work in Urban areas only\")\n",
    "elif gender=='M' and 20<=age<=40:\n",
    "    print(\"He may work anywhere\")\n",
    "elif gender=='M' and 40<=age<=60:\n",
    "    print(\"He can work in Urban areas only\")\n",
    "else:\n",
    "    print(\"Error\")"
   ]
  },
  {
   "cell_type": "code",
   "execution_count": null,
   "id": "12b5581b",
   "metadata": {},
   "outputs": [],
   "source": []
  }
 ],
 "metadata": {
  "kernelspec": {
   "display_name": "Python 3 (ipykernel)",
   "language": "python",
   "name": "python3"
  },
  "language_info": {
   "codemirror_mode": {
    "name": "ipython",
    "version": 3
   },
   "file_extension": ".py",
   "mimetype": "text/x-python",
   "name": "python",
   "nbconvert_exporter": "python",
   "pygments_lexer": "ipython3",
   "version": "3.11.5"
  }
 },
 "nbformat": 4,
 "nbformat_minor": 5
}

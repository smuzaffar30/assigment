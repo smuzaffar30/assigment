{
 "cells": [
  {
   "cell_type": "markdown",
   "id": "b9b80a97",
   "metadata": {},
   "source": [
    "### Scenario1: Grocery Shopping list\n",
    "You are creating a program to manage a grocery shopping list. Users should be able to add items, remove items , and display the current list."
   ]
  },
  {
   "cell_type": "code",
   "execution_count": 1,
   "id": "81792c25",
   "metadata": {},
   "outputs": [
    {
     "name": "stdout",
     "output_type": "stream",
     "text": [
      "1. Add item\n",
      "Enter your choice: 2\n",
      "Enter the item to remove: 1\n",
      "That item is not on your list.\n",
      "2. Remove item\n",
      "Enter your choice: 1\n",
      "Enter the item to add: kali mirch\n",
      "kali mirch has been added to your shopping list.\n",
      "3. Display list\n",
      "Enter your choice: 3\n",
      "Your shopping list:\n",
      "kali mirch\n",
      "4. Exit\n",
      "Enter your choice: 4\n"
     ]
    }
   ],
   "source": [
    "shopping_list = []\n",
    "\n",
    "def add_item():\n",
    "  new_item = input(\"Enter the item to add: \")\n",
    "  shopping_list.append(new_item)  # Add the item to the list\n",
    "  print(new_item, \"has been added to your shopping list.\")\n",
    "\n",
    "def remove_item():\n",
    "  item_to_remove = input(\"Enter the item to remove: \")\n",
    "  if item_to_remove in shopping_list:\n",
    "    shopping_list.remove(item_to_remove)  # Remove the item if it exists\n",
    "    print(item_to_remove, \"has been removed from your shopping list.\")\n",
    "  else:\n",
    "    print(\"That item is not on your list.\")\n",
    "\n",
    "def display_list():\n",
    "  if shopping_list:  # Check if the list is not empty\n",
    "    print(\"Your shopping list:\")\n",
    "    for item in shopping_list:\n",
    "      print(item)\n",
    "  else:\n",
    "    print(\"Your shopping list is empty.\")\n",
    "\n",
    "for choice in [\"1. Add item\", \"2. Remove item\", \"3. Display list\", \"4. Exit\"]:\n",
    "    print(choice)\n",
    "    choice = input(\"Enter your choice: \")\n",
    "    if choice == \"1\":\n",
    "        add_item()\n",
    "    elif choice == \"2\":\n",
    "        remove_item()\n",
    "    elif choice == \"3\":\n",
    "        display_list()\n",
    "    elif choice == \"4\":\n",
    "        exit  # Exit the program\n",
    "    else:\n",
    "        print(\"Invalid choice. Please try again.\")\n"
   ]
  },
  {
   "cell_type": "markdown",
   "id": "e00db02f",
   "metadata": {},
   "source": [
    "### Scenario 2: Student Grades\n",
    "You are managing student grades using a dictionary. You need to calculate the average grade.take\n",
    "atleast 5 Students grades & then calculate the average."
   ]
  },
  {
   "cell_type": "code",
   "execution_count": 2,
   "id": "b5fa972d",
   "metadata": {},
   "outputs": [
    {
     "name": "stdout",
     "output_type": "stream",
     "text": [
      "The average grade is: 85.00\n"
     ]
    }
   ],
   "source": [
    "student_grades = {\n",
    "    \"sami\": 85,\n",
    "    \"saqib\": 90,\n",
    "    \"qasim\": 75,\n",
    "    \"asad\": 95,\n",
    "    \"asim\": 80,\n",
    "}\n",
    "total_grades = sum(student_grades.values())\n",
    "number_of_students = len(student_grades)\n",
    "average_grade = total_grades / number_of_students\n",
    "print(f\"The average grade is: {average_grade:.2f}\")"
   ]
  },
  {
   "cell_type": "markdown",
   "id": "6bc6b542",
   "metadata": {},
   "source": [
    "### Scenario 3: Word Frequency Counter\n",
    "You are given a list of words, and you need to count the frequency of each word.\n",
    "word_list = [\"apple\", \"banana\", \"apple\", \"orange\", \"banana\", \"grape\", \"apple\"]"
   ]
  },
  {
   "cell_type": "code",
   "execution_count": 3,
   "id": "f6c68acb",
   "metadata": {},
   "outputs": [
    {
     "name": "stdout",
     "output_type": "stream",
     "text": [
      "Word: apple, Count: 3\n",
      "Word: banana, Count: 2\n",
      "Word: orange, Count: 1\n",
      "Word: grape, Count: 1\n"
     ]
    }
   ],
   "source": [
    "word_list = [\"apple\", \"banana\", \"apple\", \"orange\", \"banana\", \"grape\", \"apple\"]\n",
    "word_counts = {}\n",
    "for word in word_list:\n",
    "  if word in word_counts:\n",
    "    word_counts[word] += 1\n",
    "  else:\n",
    "    word_counts[word] = 1\n",
    "for word, count in word_counts.items():\n",
    "  print(f\"Word: {word}, Count: {count}\")"
   ]
  },
  {
   "cell_type": "markdown",
   "id": "02da8d99",
   "metadata": {},
   "source": [
    "### Scenario 04: Voting System (Annual Employee Recognition Awards)\n",
    "You are developing a simple voting system for a contest. Users can vote for their Favorite option, and\n",
    "you need to count the votes.\n",
    "In a corporate setting, the HR department is organizing the Annual Employee Recognition Awards,\n",
    "where employees get the opportunity to vote for their colleagues nominated in different categories.\n",
    "The HR team has decided to use a simple voting system to collect and tally votes for the nominees in\n",
    "various award categories. The script provided will be utilized for this purpose.\n",
    "Candidates: The nominees for different award categories, such as \"Employee of the Year,\" \"Team\n",
    "Player of the Year,\" and \"Innovation Award,\" are represented by the list of candidates: 'Candidate A,'\n",
    "'Candidate B,' and 'Candidate C.'\n",
    "Voting Process: Employees are requested to input the number of voters participating in the awards.\n",
    "Each voter is presented with a list of nominees, and they can vote for their preferred candidate by\n",
    "entering the corresponding number.\n",
    "Validation: The script ensures that the entered vote is within the valid range of candidates. If an\n",
    "employee enters an invalid vote, the system prompts them to choose a valid candidate.\n",
    "Recording Votes: The script records each vote for the selected candidate and prints a confirmation\n",
    "message indicating that the vote has been recorded."
   ]
  },
  {
   "cell_type": "code",
   "execution_count": 4,
   "id": "cf3f01e2",
   "metadata": {},
   "outputs": [],
   "source": [
    "award_categories = {\n",
    "    \"Employee of the Year\": [\"Candidate A\", \"Candidate B\", \"Candidate C\"],\n",
    "    \"Team Player of the Year\": [\"Candidate X\", \"Candidate Y\", \"Candidate Z\"],\n",
    "    \"Innovation Award\": [\"Candidate 1\", \"Candidate 2\", \"Candidate 3\"],\n",
    "}"
   ]
  },
  {
   "cell_type": "code",
   "execution_count": 5,
   "id": "2e72d0cf",
   "metadata": {},
   "outputs": [
    {
     "name": "stdout",
     "output_type": "stream",
     "text": [
      "Enter the number of voters participating in the awards: 1\n"
     ]
    }
   ],
   "source": [
    "number_of_voters = int(input(\"Enter the number of voters participating in the awards: \"))\n"
   ]
  },
  {
   "cell_type": "code",
   "execution_count": 6,
   "id": "47dec127",
   "metadata": {},
   "outputs": [
    {
     "name": "stdout",
     "output_type": "stream",
     "text": [
      "\n",
      "**Award Category:** Employee of the Year\n",
      "\n",
      "**Award Category:** Team Player of the Year\n",
      "\n",
      "**Award Category:** Innovation Award\n"
     ]
    }
   ],
   "source": [
    "for category, candidates in award_categories.items():\n",
    "    print(f\"\\n**Award Category:** {category}\")\n",
    "    vote_counts = [0] * len(candidates)"
   ]
  },
  {
   "cell_type": "code",
   "execution_count": 7,
   "id": "194c85cd",
   "metadata": {},
   "outputs": [
    {
     "name": "stdout",
     "output_type": "stream",
     "text": [
      "Voter 1: Enter the number of your preferred candidate (1-3):\n",
      "2\n",
      "Your vote for Candidate 2 has been recorded.\n"
     ]
    }
   ],
   "source": [
    "for voter in range(1, number_of_voters + 1):\n",
    "        print(f\"Voter {voter}: Enter the number of your preferred candidate (1-{len(candidates)}):\")\n",
    "        try:\n",
    "            vote = int(input())\n",
    "            if 1 <= vote <= len(candidates):\n",
    "                vote_counts[vote - 1] += 1\n",
    "                print(f\"Your vote for {candidates[vote - 1]} has been recorded.\")\n",
    "            else:\n",
    "                print(\"Invalid vote. Please enter a number between 1 and\", len(candidates))\n",
    "                voter -= 1  # Repeat vote for this voter\n",
    "        except ValueError:\n",
    "            print(\"Invalid input. Please enter a valid number.\")\n",
    "            voter -= 1  # Repeat vote for this voter"
   ]
  },
  {
   "cell_type": "code",
   "execution_count": 12,
   "id": "08935638",
   "metadata": {},
   "outputs": [
    {
     "name": "stdout",
     "output_type": "stream",
     "text": [
      "\n",
      "**Vote Results for Innovation Award:\n",
      "Candidate 1: 0 votes\n",
      "Candidate 2: 1 votes\n",
      "Candidate 3: 0 votes\n"
     ]
    }
   ],
   "source": [
    "print(f\"\\n**Vote Results for {category}:\")\n",
    "for i, candidate in enumerate(candidates):\n",
    "    print(f\"{candidate}: {vote_counts[i]} votes\")"
   ]
  },
  {
   "cell_type": "code",
   "execution_count": null,
   "id": "a7b2156e",
   "metadata": {},
   "outputs": [],
   "source": []
  }
 ],
 "metadata": {
  "kernelspec": {
   "display_name": "Python 3 (ipykernel)",
   "language": "python",
   "name": "python3"
  },
  "language_info": {
   "codemirror_mode": {
    "name": "ipython",
    "version": 3
   },
   "file_extension": ".py",
   "mimetype": "text/x-python",
   "name": "python",
   "nbconvert_exporter": "python",
   "pygments_lexer": "ipython3",
   "version": "3.11.5"
  }
 },
 "nbformat": 4,
 "nbformat_minor": 5
}
